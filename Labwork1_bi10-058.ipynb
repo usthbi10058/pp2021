{
 "cells": [
  {
   "cell_type": "code",
   "execution_count": 1,
   "id": "1a80cab7",
   "metadata": {},
   "outputs": [
    {
     "name": "stdout",
     "output_type": "stream",
     "text": [
      "How many students are there in the course ?1\n",
      "Enter Student Infor : \n",
      " ID : 1\n",
      " Name : 1\n",
      " Birthday : 1\n",
      "How many course are there in the semester ?1\n",
      "Enter Course Infor : \n",
      " ID : 1\n",
      " Name : 1\n",
      "All Students:\n",
      "id 1,name is 1,birthday is 1 \n",
      "All Courses:\n",
      "id 1,name is 1 \n"
     ]
    }
   ],
   "source": [
    "def CountStudents():\n",
    "\tcount = int(input(\"How many students are there in the course ?\"))\n",
    "\treturn count\n",
    "\n",
    "def Studentin4():\n",
    "\tprint(\"Enter Student Infor : \")\n",
    "\tid = input(\" ID : \")\n",
    "\tname = input(\" Name : \")\n",
    "\tBirthday = input(\" Birthday : \")\n",
    "\tA = {\"id\":id,\"name\":name,\"birthday\":Birthday}\n",
    "\treturn A\n",
    "def Students_List(Students):\n",
    "\tfor A in Students:\n",
    "\t\tprint(f\"id {A['id']},name is {A['name']},birthday is {A['birthday']} \")\n",
    "\n",
    "\n",
    "\n",
    "# main \n",
    "Students = []\n",
    "count = CountStudents()\n",
    "for i in range(0,count):\n",
    "\tA = Studentin4()\n",
    "\tStudents += [ A ] \n",
    "\n",
    "\n",
    "\n",
    "def CountCourse():\n",
    "\tcount = int(input(\"How many course are there in the semester ?\"))\n",
    "\treturn count\n",
    "\n",
    "def Coursein4():\n",
    "\tprint(\"Enter Course Infor : \")\n",
    "\tid = input(\" ID : \")\n",
    "\tname = input(\" Name : \")\n",
    "\tB = {\"id\":id,\"name\":name}\n",
    "\treturn B\n",
    "def Courses_List(Courses):\n",
    "\tfor B in Courses:\n",
    "\t\tprint(f\"id {B['id']},name is {B['name']} \")\n",
    "\n",
    "\n",
    "\n",
    "# main \n",
    "Courses = []\n",
    "count = CountCourse()\n",
    "for i in range(0,count):\n",
    "\tB =  Coursein4()\n",
    "\tCourses += [ B ] \n",
    "\n",
    "\n",
    "\n",
    "\n",
    "print(\"All Students:\")\n",
    "Students_List(Students)\n",
    "print(\"All Courses:\")\n",
    "Courses_List(Courses)"
   ]
  },
  {
   "cell_type": "code",
   "execution_count": null,
   "id": "fec3fd65",
   "metadata": {},
   "outputs": [],
   "source": []
  }
 ],
 "metadata": {
  "kernelspec": {
   "display_name": "Python 3",
   "language": "python",
   "name": "python3"
  },
  "language_info": {
   "codemirror_mode": {
    "name": "ipython",
    "version": 3
   },
   "file_extension": ".py",
   "mimetype": "text/x-python",
   "name": "python",
   "nbconvert_exporter": "python",
   "pygments_lexer": "ipython3",
   "version": "3.8.6"
  },
  "widgets": {
   "application/vnd.jupyter.widget-state+json": {
    "state": {},
    "version_major": 2,
    "version_minor": 0
   }
  }
 },
 "nbformat": 4,
 "nbformat_minor": 5
}
